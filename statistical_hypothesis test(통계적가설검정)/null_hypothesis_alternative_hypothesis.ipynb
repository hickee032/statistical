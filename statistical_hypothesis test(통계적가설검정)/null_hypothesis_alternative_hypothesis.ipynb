{
  "nbformat": 4,
  "nbformat_minor": 0,
  "metadata": {
    "colab": {
      "provenance": []
    },
    "kernelspec": {
      "name": "python3",
      "display_name": "Python 3"
    },
    "language_info": {
      "name": "python"
    }
  },
  "cells": [
    {
      "cell_type": "code",
      "source": [
        "# 한글폰트 사용 in colab\n",
        "%matplotlib inline  \n",
        "\n",
        "import matplotlib as mpl \n",
        "import matplotlib.pyplot as plt \n",
        "import matplotlib.font_manager as fm  \n",
        "\n",
        "!apt-get update -qq\n",
        "!apt-get install fonts-nanum* -qq\n",
        "\n",
        "path = '/usr/share/fonts/truetype/nanum/NanumBarunGothic.ttf' \n",
        "font_name = fm.FontProperties(fname=path, size=10).get_name()\n",
        "print(font_name)\n",
        "plt.rc('font', family=font_name)\n",
        "\n",
        "fm._rebuild()\n",
        "mpl.rcParams['axes.unicode_minus'] = False"
      ],
      "metadata": {
        "colab": {
          "base_uri": "https://localhost:8080/"
        },
        "id": "kEBcStGD-EBE",
        "outputId": "407a1c5e-acca-4e04-ed6a-5b6e8b805ada"
      },
      "execution_count": null,
      "outputs": [
        {
          "output_type": "stream",
          "name": "stdout",
          "text": [
            "NanumBarunGothic\n"
          ]
        }
      ]
    },
    {
      "cell_type": "code",
      "source": [
        "! kill -9 $(ps -A | grep python | awk '{print $1}')"
      ],
      "metadata": {
        "id": "RHiYXeZt-mls"
      },
      "execution_count": null,
      "outputs": []
    },
    {
      "cell_type": "markdown",
      "source": [
        "귀무 가설, 대립 가설"
      ],
      "metadata": {
        "id": "QWuHTMqeuWIK"
      }
    },
    {
      "cell_type": "code",
      "execution_count": null,
      "metadata": {
        "colab": {
          "base_uri": "https://localhost:8080/"
        },
        "id": "6p_dwZyfY6wj",
        "outputId": "8d124ea4-349c-4991-be8b-6428e385a1e2"
      },
      "outputs": [
        {
          "output_type": "execute_result",
          "data": {
            "text/plain": [
              "Ttest_1sampResult(statistic=3.434767428066461, pvalue=0.00277711459981648)"
            ]
          },
          "metadata": {},
          "execution_count": 2
        }
      ],
      "source": [
        "import numpy as np\n",
        "from scipy import stats\n",
        "\n",
        "np.random.seed(1) # 동일한 난수 생성\n",
        "\n",
        "# 귀무가설을 학생들의 평균키가 173과 같다\n",
        "# 대립가설은 학생들의 평균키가 173과 다르다\n",
        "\n",
        "#평균 178 표준편차 5\n",
        "# 의도적으로 귀무가설을 기각되게 173이 아닌 178으로 정함\n",
        "\n",
        "heights = [178+np.random.normal(0,5) for _ in range(20)]\n",
        "\n",
        "# t-검정 메서드 stats.ttest_1samp() \n",
        "# 유의 확률 >= 0.05 귀무가설 채택\n",
        "# 유의 확률 < 0.05 대립가설 채택\n",
        "\n",
        "tTestRes = stats.ttest_1samp(heights,173)\n",
        "tTestRes\n",
        "# 결과 -> Ttest_1sampResult(statistic=3.434767428066461, pvalue=0.00277711459981648)\n",
        "\n"
      ]
    },
    {
      "cell_type": "markdown",
      "source": [
        "푸아송 분포\n",
        "\n",
        "    단위 시간에 어떤 사건이 몇번 일어 난 것이지 표현"
      ],
      "metadata": {
        "id": "3n5tpM5NukSG"
      }
    },
    {
      "cell_type": "code",
      "source": [
        "from math import factorial, exp\n",
        "import matplotlib.pyplot as plt \n",
        "\n",
        "def pois_dist(n , lamb):\n",
        "  return (lamb ** n) *exp(-lamb)/ factorial(n)\n",
        "\n",
        "def poisson_f():\n",
        "  x = np.arange(40)  \n",
        "  pd = np.array([pois_dist(n,10) for n in range(40)])\n",
        "  plt.ylim(0,0.15)\n",
        "  plt.text(33.5,0.14,'lamb = 10')\n",
        "  plt.bar(x,pd,color = 'blue')\n",
        "  plt.show()\n",
        "\n",
        "poisson_f()\n"
      ],
      "metadata": {
        "colab": {
          "base_uri": "https://localhost:8080/",
          "height": 265
        },
        "id": "oo4w_V7YwYc3",
        "outputId": "3ee3d75c-0b69-4f84-c684-fa87bc2a4fc4"
      },
      "execution_count": null,
      "outputs": [
        {
          "output_type": "display_data",
          "data": {
            "text/plain": [
              "<Figure size 432x288 with 1 Axes>"
            ],
            "image/png": "[encoded data removed]"
          },
          "metadata": {
            "needs_background": "light"
          }
        }
      ]
    },
    {
      "cell_type": "code",
      "source": [
        "# 카이제곱 분포\n",
        "from scipy.stats import chi2\n",
        "dof = 2 # 자유도\n",
        "x = np.linspace(0,20,200)\n",
        "y = chi2(dof).pdf(x)\n",
        "plt.plot(x,y,'r--')\n",
        "plt.xlabel('X')\n",
        "plt.ylabel('P(X)')\n",
        "plt.title('chi2 분포')\n",
        "plt.show()"
      ],
      "metadata": {
        "colab": {
          "base_uri": "https://localhost:8080/",
          "height": 294
        },
        "id": "sB78oB7Eyi5v",
        "outputId": "e89142e7-525c-4d6f-d7a3-df7a898c0a93"
      },
      "execution_count": null,
      "outputs": [
        {
          "output_type": "display_data",
          "data": {
            "text/plain": [
              "<Figure size 432x288 with 1 Axes>"
            ],
            "image/png": "[encoded data removed]"
          },
          "metadata": {
            "needs_background": "light"
          }
        }
      ]
    },
    {
      "cell_type": "code",
      "source": [
        "# pip install yfinance\n",
        "import yfinance as yf\n",
        "import statsmodels.api as sm\n",
        "# 기존 R에서 가능했던 다양한 회귀분석과 시계열\n",
        "\n",
        "stock_price = yf.download({'005930.KS','^KS11'},'2022-01-01','2022-10-21')\n",
        "print('타입 확인 : ', type(stock_price))\n",
        "\n",
        "stock_price.info()\n",
        "\n",
        "# 종속변수 target\n",
        "target = stock_price['Adj Close']['^KS11']\n",
        "# 독립변수\n",
        "x = stock_price['Adj Close']['005930.KS']\n",
        "print('target')\n",
        "\n",
        "# 상수 값을 더해서 회귀식을 잘 표현\n",
        "feature_add = sm.add_constant(x,has_constant='add')\n",
        "model = sm.OLS(target,x)\n",
        "fittedModel = model.fit()\n",
        "\n",
        "print('결정계수 :', fittedModel.rsquared)\n",
        "print(fittedModel.pvalues)\n",
        "print('잔차의 제곱합 : ', fittedModel.mse_resid)\n",
        "\n",
        "target_pred = fittedModel.predict()\n",
        "plt.scatter(x,target,marker='+',label='$Y_i$ 실제 관측치')\n",
        "plt.plot(x,target_pred,color='g',label='$\\hat{Y}_i$ 회귀선')\n",
        "plt.hlines(target.mean(),x.min(),x.max(),color='r',label='$Y_i$ 평균선')\n",
        "plt.legend()\n",
        "plt.xlabel('삼성 주가')\n",
        "plt.ylabel('KOSPI')\n",
        "plt.show()"
      ],
      "metadata": {
        "colab": {
          "base_uri": "https://localhost:8080/",
          "height": 793
        },
        "id": "gmu28aPkz7n1",
        "outputId": "689e6fb2-05c1-472f-dac3-8b1aefbdbeac"
      },
      "execution_count": null,
      "outputs": [
        {
          "output_type": "stream",
          "name": "stdout",
          "text": [
            "[*********************100%***********************]  2 of 2 completed\n",
            "타입 확인 :  <class 'pandas.core.frame.DataFrame'>\n",
            "<class 'pandas.core.frame.DataFrame'>\n",
            "DatetimeIndex: 194 entries, 2022-01-04 to 2022-10-20\n",
            "Data columns (total 12 columns):\n",
            " #   Column                  Non-Null Count  Dtype  \n",
            "---  ------                  --------------  -----  \n",
            " 0   (Adj Close, 005930.KS)  194 non-null    float64\n",
            " 1   (Adj Close, ^KS11)      194 non-null    float64\n",
            " 2   (Close, 005930.KS)      194 non-null    float64\n",
            " 3   (Close, ^KS11)          194 non-null    float64\n",
            " 4   (High, 005930.KS)       194 non-null    float64\n",
            " 5   (High, ^KS11)           194 non-null    float64\n",
            " 6   (Low, 005930.KS)        194 non-null    float64\n",
            " 7   (Low, ^KS11)            194 non-null    float64\n",
            " 8   (Open, 005930.KS)       194 non-null    float64\n",
            " 9   (Open, ^KS11)           194 non-null    float64\n",
            " 10  (Volume, 005930.KS)     194 non-null    int64  \n",
            " 11  (Volume, ^KS11)         194 non-null    int64  \n",
            "dtypes: float64(10), int64(2)\n",
            "memory usage: 19.7 KB\n",
            "target\n",
            "결정계수 : 0.9985934657388228\n",
            "005930.KS    3.592583e-277\n",
            "dtype: float64\n",
            "잔차의 제곱합 :  9308.133214810381\n"
          ]
        },
        {
          "output_type": "stream",
          "name": "stderr",
          "text": [
            "/usr/local/lib/python3.8/dist-packages/statsmodels/tsa/tsatools.py:142: FutureWarning: In a future version of pandas all arguments of concat except for the argument 'objs' will be keyword-only\n",
            "  x = pd.concat(x[::order], 1)\n"
          ]
        },
        {
          "output_type": "display_data",
          "data": {
            "text/plain": [
              "<Figure size 432x288 with 1 Axes>"
            ],
            "image/png": "[encoded data removed]"
          },
          "metadata": {
            "needs_background": "light"
          }
        }
      ]
    }
  ]
}